{
 "cells": [
  {
   "cell_type": "code",
   "execution_count": 1,
   "id": "95501f59-98e1-49f3-bed4-2253bf9924cb",
   "metadata": {},
   "outputs": [
    {
     "name": "stdout",
     "output_type": "stream",
     "text": [
      "Requirement already satisfied: torch in c:\\users\\syed sarafeena ali\\anaconda\\lib\\site-packages (2.7.1)\n",
      "Requirement already satisfied: filelock in c:\\users\\syed sarafeena ali\\anaconda\\lib\\site-packages (from torch) (3.17.0)\n",
      "Requirement already satisfied: typing-extensions>=4.10.0 in c:\\users\\syed sarafeena ali\\anaconda\\lib\\site-packages (from torch) (4.12.2)\n",
      "Requirement already satisfied: sympy>=1.13.3 in c:\\users\\syed sarafeena ali\\anaconda\\lib\\site-packages (from torch) (1.13.3)\n",
      "Requirement already satisfied: networkx in c:\\users\\syed sarafeena ali\\anaconda\\lib\\site-packages (from torch) (3.4.2)\n",
      "Requirement already satisfied: jinja2 in c:\\users\\syed sarafeena ali\\anaconda\\lib\\site-packages (from torch) (3.1.6)\n",
      "Requirement already satisfied: fsspec in c:\\users\\syed sarafeena ali\\anaconda\\lib\\site-packages (from torch) (2025.3.0)\n",
      "Requirement already satisfied: setuptools in c:\\users\\syed sarafeena ali\\anaconda\\lib\\site-packages (from torch) (80.9.0)\n",
      "Requirement already satisfied: mpmath<1.4,>=1.1.0 in c:\\users\\syed sarafeena ali\\anaconda\\lib\\site-packages (from sympy>=1.13.3->torch) (1.3.0)\n",
      "Requirement already satisfied: MarkupSafe>=2.0 in c:\\users\\syed sarafeena ali\\anaconda\\lib\\site-packages (from jinja2->torch) (3.0.2)\n"
     ]
    },
    {
     "name": "stderr",
     "output_type": "stream",
     "text": [
      "\n",
      "[notice] A new release of pip is available: 25.1.1 -> 25.2\n",
      "[notice] To update, run: C:\\Users\\SYED SARAFEENA ALI\\anaconda\\python.exe -m pip install --upgrade pip\n"
     ]
    },
    {
     "name": "stdout",
     "output_type": "stream",
     "text": [
      "Found existing installation: transformers 4.56.1\n",
      "Uninstalling transformers-4.56.1:\n",
      "  Successfully uninstalled transformers-4.56.1\n",
      "Collecting transformers\n",
      "  Downloading transformers-4.57.1-py3-none-any.whl.metadata (43 kB)\n",
      "Requirement already satisfied: filelock in c:\\users\\syed sarafeena ali\\anaconda\\lib\\site-packages (from transformers) (3.17.0)\n",
      "Requirement already satisfied: huggingface-hub<1.0,>=0.34.0 in c:\\users\\syed sarafeena ali\\anaconda\\lib\\site-packages (from transformers) (0.34.1)\n",
      "Requirement already satisfied: numpy>=1.17 in c:\\users\\syed sarafeena ali\\anaconda\\lib\\site-packages (from transformers) (2.1.3)\n",
      "Requirement already satisfied: packaging>=20.0 in c:\\users\\syed sarafeena ali\\appdata\\roaming\\python\\python313\\site-packages (from transformers) (25.0)\n",
      "Requirement already satisfied: pyyaml>=5.1 in c:\\users\\syed sarafeena ali\\anaconda\\lib\\site-packages (from transformers) (6.0.2)\n",
      "Requirement already satisfied: regex!=2019.12.17 in c:\\users\\syed sarafeena ali\\anaconda\\lib\\site-packages (from transformers) (2024.11.6)\n",
      "Requirement already satisfied: requests in c:\\users\\syed sarafeena ali\\anaconda\\lib\\site-packages (from transformers) (2.32.3)\n",
      "Requirement already satisfied: tokenizers<=0.23.0,>=0.22.0 in c:\\users\\syed sarafeena ali\\anaconda\\lib\\site-packages (from transformers) (0.22.0)\n",
      "Requirement already satisfied: safetensors>=0.4.3 in c:\\users\\syed sarafeena ali\\anaconda\\lib\\site-packages (from transformers) (0.5.3)\n",
      "Requirement already satisfied: tqdm>=4.27 in c:\\users\\syed sarafeena ali\\anaconda\\lib\\site-packages (from transformers) (4.67.1)\n",
      "Requirement already satisfied: fsspec>=2023.5.0 in c:\\users\\syed sarafeena ali\\anaconda\\lib\\site-packages (from huggingface-hub<1.0,>=0.34.0->transformers) (2025.3.0)\n",
      "Requirement already satisfied: typing-extensions>=3.7.4.3 in c:\\users\\syed sarafeena ali\\anaconda\\lib\\site-packages (from huggingface-hub<1.0,>=0.34.0->transformers) (4.12.2)\n",
      "Requirement already satisfied: colorama in c:\\users\\syed sarafeena ali\\appdata\\roaming\\python\\python313\\site-packages (from tqdm>=4.27->transformers) (0.4.6)\n",
      "Requirement already satisfied: charset-normalizer<4,>=2 in c:\\users\\syed sarafeena ali\\anaconda\\lib\\site-packages (from requests->transformers) (3.3.2)\n",
      "Requirement already satisfied: idna<4,>=2.5 in c:\\users\\syed sarafeena ali\\anaconda\\lib\\site-packages (from requests->transformers) (3.7)\n",
      "Requirement already satisfied: urllib3<3,>=1.21.1 in c:\\users\\syed sarafeena ali\\anaconda\\lib\\site-packages (from requests->transformers) (2.3.0)\n",
      "Requirement already satisfied: certifi>=2017.4.17 in c:\\users\\syed sarafeena ali\\anaconda\\lib\\site-packages (from requests->transformers) (2025.4.26)\n",
      "Downloading transformers-4.57.1-py3-none-any.whl (12.0 MB)\n",
      "   ---------------------------------------- 0.0/12.0 MB ? eta -:--:--\n",
      "    --------------------------------------- 0.3/12.0 MB ? eta -:--:--\n",
      "   -- ------------------------------------- 0.8/12.0 MB 2.2 MB/s eta 0:00:06\n",
      "   ----- ---------------------------------- 1.6/12.0 MB 2.9 MB/s eta 0:00:04\n",
      "   ------- -------------------------------- 2.4/12.0 MB 3.1 MB/s eta 0:00:04\n",
      "   ----------- ---------------------------- 3.4/12.0 MB 3.5 MB/s eta 0:00:03\n",
      "   -------------- ------------------------- 4.5/12.0 MB 3.7 MB/s eta 0:00:03\n",
      "   ------------------- -------------------- 5.8/12.0 MB 4.1 MB/s eta 0:00:02\n",
      "   ---------------------- ----------------- 6.8/12.0 MB 4.3 MB/s eta 0:00:02\n",
      "   -------------------------- ------------- 7.9/12.0 MB 4.4 MB/s eta 0:00:01\n",
      "   ------------------------------- -------- 9.4/12.0 MB 4.7 MB/s eta 0:00:01\n",
      "   ------------------------------------ --- 11.0/12.0 MB 4.9 MB/s eta 0:00:01\n",
      "   ---------------------------------------  11.8/12.0 MB 5.0 MB/s eta 0:00:01\n",
      "   ---------------------------------------- 12.0/12.0 MB 4.6 MB/s eta 0:00:00\n",
      "Installing collected packages: transformers\n",
      "Successfully installed transformers-4.57.1\n"
     ]
    },
    {
     "name": "stderr",
     "output_type": "stream",
     "text": [
      "\n",
      "[notice] A new release of pip is available: 25.1.1 -> 25.2\n",
      "[notice] To update, run: C:\\Users\\SYED SARAFEENA ALI\\anaconda\\python.exe -m pip install --upgrade pip\n"
     ]
    },
    {
     "name": "stdout",
     "output_type": "stream",
     "text": [
      "Requirement already satisfied: wordcloud in c:\\users\\syed sarafeena ali\\anaconda\\lib\\site-packages (1.9.4)\n",
      "Requirement already satisfied: numpy>=1.6.1 in c:\\users\\syed sarafeena ali\\anaconda\\lib\\site-packages (from wordcloud) (2.1.3)\n",
      "Requirement already satisfied: pillow in c:\\users\\syed sarafeena ali\\anaconda\\lib\\site-packages (from wordcloud) (11.1.0)\n",
      "Requirement already satisfied: matplotlib in c:\\users\\syed sarafeena ali\\anaconda\\lib\\site-packages (from wordcloud) (3.10.0)\n",
      "Requirement already satisfied: contourpy>=1.0.1 in c:\\users\\syed sarafeena ali\\anaconda\\lib\\site-packages (from matplotlib->wordcloud) (1.3.1)\n",
      "Requirement already satisfied: cycler>=0.10 in c:\\users\\syed sarafeena ali\\anaconda\\lib\\site-packages (from matplotlib->wordcloud) (0.11.0)\n",
      "Requirement already satisfied: fonttools>=4.22.0 in c:\\users\\syed sarafeena ali\\anaconda\\lib\\site-packages (from matplotlib->wordcloud) (4.55.3)\n",
      "Requirement already satisfied: kiwisolver>=1.3.1 in c:\\users\\syed sarafeena ali\\anaconda\\lib\\site-packages (from matplotlib->wordcloud) (1.4.8)\n",
      "Requirement already satisfied: packaging>=20.0 in c:\\users\\syed sarafeena ali\\appdata\\roaming\\python\\python313\\site-packages (from matplotlib->wordcloud) (25.0)\n",
      "Requirement already satisfied: pyparsing>=2.3.1 in c:\\users\\syed sarafeena ali\\anaconda\\lib\\site-packages (from matplotlib->wordcloud) (3.2.0)\n",
      "Requirement already satisfied: python-dateutil>=2.7 in c:\\users\\syed sarafeena ali\\appdata\\roaming\\python\\python313\\site-packages (from matplotlib->wordcloud) (2.9.0.post0)\n",
      "Requirement already satisfied: six>=1.5 in c:\\users\\syed sarafeena ali\\appdata\\roaming\\python\\python313\\site-packages (from python-dateutil>=2.7->matplotlib->wordcloud) (1.17.0)\n"
     ]
    },
    {
     "name": "stderr",
     "output_type": "stream",
     "text": [
      "\n",
      "[notice] A new release of pip is available: 25.1.1 -> 25.2\n",
      "[notice] To update, run: C:\\Users\\SYED SARAFEENA ALI\\anaconda\\python.exe -m pip install --upgrade pip\n"
     ]
    }
   ],
   "source": [
    "import sys\n",
    "!\"{sys.executable}\" -m pip install torch\n",
    "!\"{sys.executable}\" -m pip uninstall transformers -y\n",
    "!\"{sys.executable}\" -m pip install transformers\n",
    "import sys\n",
    "!\"{sys.executable}\" -m pip install wordcloud"
   ]
  },
  {
   "cell_type": "code",
   "execution_count": 2,
   "id": "ee7a95ea-735f-452a-bd6b-947ae57145fe",
   "metadata": {},
   "outputs": [
    {
     "name": "stdout",
     "output_type": "stream",
     "text": [
      "Requirement already satisfied: nlp in c:\\users\\syed sarafeena ali\\anaconda\\lib\\site-packages (0.4.0)\n",
      "Requirement already satisfied: numpy in c:\\users\\syed sarafeena ali\\anaconda\\lib\\site-packages (from nlp) (2.1.3)\n",
      "Requirement already satisfied: pyarrow>=0.16.0 in c:\\users\\syed sarafeena ali\\anaconda\\lib\\site-packages (from nlp) (19.0.0)\n",
      "Requirement already satisfied: dill in c:\\users\\syed sarafeena ali\\anaconda\\lib\\site-packages (from nlp) (0.3.8)\n",
      "Requirement already satisfied: pandas in c:\\users\\syed sarafeena ali\\anaconda\\lib\\site-packages (from nlp) (2.2.3)\n",
      "Requirement already satisfied: requests>=2.19.0 in c:\\users\\syed sarafeena ali\\anaconda\\lib\\site-packages (from nlp) (2.32.3)\n",
      "Requirement already satisfied: tqdm>=4.27 in c:\\users\\syed sarafeena ali\\anaconda\\lib\\site-packages (from nlp) (4.67.1)\n",
      "Requirement already satisfied: filelock in c:\\users\\syed sarafeena ali\\anaconda\\lib\\site-packages (from nlp) (3.17.0)\n",
      "Requirement already satisfied: xxhash in c:\\users\\syed sarafeena ali\\anaconda\\lib\\site-packages (from nlp) (3.5.0)\n",
      "Requirement already satisfied: charset-normalizer<4,>=2 in c:\\users\\syed sarafeena ali\\anaconda\\lib\\site-packages (from requests>=2.19.0->nlp) (3.3.2)\n",
      "Requirement already satisfied: idna<4,>=2.5 in c:\\users\\syed sarafeena ali\\anaconda\\lib\\site-packages (from requests>=2.19.0->nlp) (3.7)\n",
      "Requirement already satisfied: urllib3<3,>=1.21.1 in c:\\users\\syed sarafeena ali\\anaconda\\lib\\site-packages (from requests>=2.19.0->nlp) (2.3.0)\n",
      "Requirement already satisfied: certifi>=2017.4.17 in c:\\users\\syed sarafeena ali\\anaconda\\lib\\site-packages (from requests>=2.19.0->nlp) (2025.4.26)\n",
      "Requirement already satisfied: colorama in c:\\users\\syed sarafeena ali\\appdata\\roaming\\python\\python313\\site-packages (from tqdm>=4.27->nlp) (0.4.6)\n",
      "Requirement already satisfied: python-dateutil>=2.8.2 in c:\\users\\syed sarafeena ali\\appdata\\roaming\\python\\python313\\site-packages (from pandas->nlp) (2.9.0.post0)\n",
      "Requirement already satisfied: pytz>=2020.1 in c:\\users\\syed sarafeena ali\\anaconda\\lib\\site-packages (from pandas->nlp) (2024.1)\n",
      "Requirement already satisfied: tzdata>=2022.7 in c:\\users\\syed sarafeena ali\\anaconda\\lib\\site-packages (from pandas->nlp) (2025.2)\n",
      "Requirement already satisfied: six>=1.5 in c:\\users\\syed sarafeena ali\\appdata\\roaming\\python\\python313\\site-packages (from python-dateutil>=2.8.2->pandas->nlp) (1.17.0)\n"
     ]
    },
    {
     "name": "stderr",
     "output_type": "stream",
     "text": [
      "\n",
      "[notice] A new release of pip is available: 25.1.1 -> 25.2\n",
      "[notice] To update, run: C:\\Users\\SYED SARAFEENA ALI\\anaconda\\python.exe -m pip install --upgrade pip\n"
     ]
    }
   ],
   "source": [
    "import sys\n",
    "!\"{sys.executable}\" -m pip install nlp"
   ]
  },
  {
   "cell_type": "code",
   "execution_count": 3,
   "id": "8dc37583-0b7d-4c5b-a632-2ed22179d679",
   "metadata": {},
   "outputs": [],
   "source": [
    "# !pip install transformers\n",
    "import pandas as pd\n",
    "import numpy as np\n",
    "from transformers import pipeline\n",
    "from wordcloud import WordCloud\n",
    "import seaborn as sns\n",
    "import matplotlib.pyplot as plt\n",
    "import plotly.express as px\n",
    "import plotly.graph_objects as go\n",
    "import nltk \n",
    "from nltk.tokenize import word_tokenize\n",
    "from nltk.corpus import stopwords\n",
    "from nltk.stem import WordNetLemmatizer\n",
    "import nlp\n",
    "\n",
    "import torch\n",
    "import torch.nn.functional as F"
   ]
  },
  {
   "cell_type": "code",
   "execution_count": 4,
   "id": "d6e2977a-a1c0-4d19-bbb9-3f5be9bda2d4",
   "metadata": {},
   "outputs": [
    {
     "name": "stdout",
     "output_type": "stream",
     "text": [
      "Requirement already satisfied: datasets in c:\\users\\syed sarafeena ali\\anaconda\\lib\\site-packages (4.0.0)\n",
      "Requirement already satisfied: filelock in c:\\users\\syed sarafeena ali\\anaconda\\lib\\site-packages (from datasets) (3.17.0)\n",
      "Requirement already satisfied: numpy>=1.17 in c:\\users\\syed sarafeena ali\\anaconda\\lib\\site-packages (from datasets) (2.1.3)\n",
      "Requirement already satisfied: pyarrow>=15.0.0 in c:\\users\\syed sarafeena ali\\anaconda\\lib\\site-packages (from datasets) (19.0.0)\n",
      "Requirement already satisfied: dill<0.3.9,>=0.3.0 in c:\\users\\syed sarafeena ali\\anaconda\\lib\\site-packages (from datasets) (0.3.8)\n",
      "Requirement already satisfied: pandas in c:\\users\\syed sarafeena ali\\anaconda\\lib\\site-packages (from datasets) (2.2.3)\n",
      "Requirement already satisfied: requests>=2.32.2 in c:\\users\\syed sarafeena ali\\anaconda\\lib\\site-packages (from datasets) (2.32.3)\n",
      "Requirement already satisfied: tqdm>=4.66.3 in c:\\users\\syed sarafeena ali\\anaconda\\lib\\site-packages (from datasets) (4.67.1)\n",
      "Requirement already satisfied: xxhash in c:\\users\\syed sarafeena ali\\anaconda\\lib\\site-packages (from datasets) (3.5.0)\n",
      "Requirement already satisfied: multiprocess<0.70.17 in c:\\users\\syed sarafeena ali\\anaconda\\lib\\site-packages (from datasets) (0.70.16)\n",
      "Requirement already satisfied: fsspec<=2025.3.0,>=2023.1.0 in c:\\users\\syed sarafeena ali\\anaconda\\lib\\site-packages (from fsspec[http]<=2025.3.0,>=2023.1.0->datasets) (2025.3.0)\n",
      "Requirement already satisfied: huggingface-hub>=0.24.0 in c:\\users\\syed sarafeena ali\\anaconda\\lib\\site-packages (from datasets) (0.34.1)\n",
      "Requirement already satisfied: packaging in c:\\users\\syed sarafeena ali\\appdata\\roaming\\python\\python313\\site-packages (from datasets) (25.0)\n",
      "Requirement already satisfied: pyyaml>=5.1 in c:\\users\\syed sarafeena ali\\anaconda\\lib\\site-packages (from datasets) (6.0.2)\n",
      "Requirement already satisfied: aiohttp!=4.0.0a0,!=4.0.0a1 in c:\\users\\syed sarafeena ali\\anaconda\\lib\\site-packages (from fsspec[http]<=2025.3.0,>=2023.1.0->datasets) (3.11.10)\n",
      "Requirement already satisfied: aiohappyeyeballs>=2.3.0 in c:\\users\\syed sarafeena ali\\anaconda\\lib\\site-packages (from aiohttp!=4.0.0a0,!=4.0.0a1->fsspec[http]<=2025.3.0,>=2023.1.0->datasets) (2.4.4)\n",
      "Requirement already satisfied: aiosignal>=1.1.2 in c:\\users\\syed sarafeena ali\\anaconda\\lib\\site-packages (from aiohttp!=4.0.0a0,!=4.0.0a1->fsspec[http]<=2025.3.0,>=2023.1.0->datasets) (1.2.0)\n",
      "Requirement already satisfied: attrs>=17.3.0 in c:\\users\\syed sarafeena ali\\anaconda\\lib\\site-packages (from aiohttp!=4.0.0a0,!=4.0.0a1->fsspec[http]<=2025.3.0,>=2023.1.0->datasets) (24.3.0)\n",
      "Requirement already satisfied: frozenlist>=1.1.1 in c:\\users\\syed sarafeena ali\\anaconda\\lib\\site-packages (from aiohttp!=4.0.0a0,!=4.0.0a1->fsspec[http]<=2025.3.0,>=2023.1.0->datasets) (1.5.0)\n",
      "Requirement already satisfied: multidict<7.0,>=4.5 in c:\\users\\syed sarafeena ali\\anaconda\\lib\\site-packages (from aiohttp!=4.0.0a0,!=4.0.0a1->fsspec[http]<=2025.3.0,>=2023.1.0->datasets) (6.1.0)\n",
      "Requirement already satisfied: propcache>=0.2.0 in c:\\users\\syed sarafeena ali\\anaconda\\lib\\site-packages (from aiohttp!=4.0.0a0,!=4.0.0a1->fsspec[http]<=2025.3.0,>=2023.1.0->datasets) (0.3.1)\n",
      "Requirement already satisfied: yarl<2.0,>=1.17.0 in c:\\users\\syed sarafeena ali\\anaconda\\lib\\site-packages (from aiohttp!=4.0.0a0,!=4.0.0a1->fsspec[http]<=2025.3.0,>=2023.1.0->datasets) (1.18.0)\n",
      "Requirement already satisfied: idna>=2.0 in c:\\users\\syed sarafeena ali\\anaconda\\lib\\site-packages (from yarl<2.0,>=1.17.0->aiohttp!=4.0.0a0,!=4.0.0a1->fsspec[http]<=2025.3.0,>=2023.1.0->datasets) (3.7)\n",
      "Requirement already satisfied: typing-extensions>=3.7.4.3 in c:\\users\\syed sarafeena ali\\anaconda\\lib\\site-packages (from huggingface-hub>=0.24.0->datasets) (4.12.2)\n",
      "Requirement already satisfied: charset-normalizer<4,>=2 in c:\\users\\syed sarafeena ali\\anaconda\\lib\\site-packages (from requests>=2.32.2->datasets) (3.3.2)\n",
      "Requirement already satisfied: urllib3<3,>=1.21.1 in c:\\users\\syed sarafeena ali\\anaconda\\lib\\site-packages (from requests>=2.32.2->datasets) (2.3.0)\n",
      "Requirement already satisfied: certifi>=2017.4.17 in c:\\users\\syed sarafeena ali\\anaconda\\lib\\site-packages (from requests>=2.32.2->datasets) (2025.4.26)\n",
      "Requirement already satisfied: colorama in c:\\users\\syed sarafeena ali\\appdata\\roaming\\python\\python313\\site-packages (from tqdm>=4.66.3->datasets) (0.4.6)\n",
      "Requirement already satisfied: python-dateutil>=2.8.2 in c:\\users\\syed sarafeena ali\\appdata\\roaming\\python\\python313\\site-packages (from pandas->datasets) (2.9.0.post0)\n",
      "Requirement already satisfied: pytz>=2020.1 in c:\\users\\syed sarafeena ali\\anaconda\\lib\\site-packages (from pandas->datasets) (2024.1)\n",
      "Requirement already satisfied: tzdata>=2022.7 in c:\\users\\syed sarafeena ali\\anaconda\\lib\\site-packages (from pandas->datasets) (2025.2)\n",
      "Requirement already satisfied: six>=1.5 in c:\\users\\syed sarafeena ali\\appdata\\roaming\\python\\python313\\site-packages (from python-dateutil>=2.8.2->pandas->datasets) (1.17.0)\n"
     ]
    },
    {
     "name": "stderr",
     "output_type": "stream",
     "text": [
      "\n",
      "[notice] A new release of pip is available: 25.1.1 -> 25.2\n",
      "[notice] To update, run: C:\\Users\\SYED SARAFEENA ALI\\anaconda\\python.exe -m pip install --upgrade pip\n"
     ]
    }
   ],
   "source": [
    "import sys\n",
    "!\"{sys.executable}\" -m pip install datasets"
   ]
  },
  {
   "cell_type": "code",
   "execution_count": 5,
   "id": "0c05ea53-7776-4929-a47d-6f6412c258da",
   "metadata": {},
   "outputs": [
    {
     "name": "stdout",
     "output_type": "stream",
     "text": [
      "4.0.0\n"
     ]
    }
   ],
   "source": [
    "import datasets\n",
    "from datasets import load_dataset\n",
    "\n",
    "print(datasets.__version__)"
   ]
  },
  {
   "cell_type": "code",
   "execution_count": 6,
   "id": "abb22c27-f3d6-4195-83d9-2e623efdbf83",
   "metadata": {},
   "outputs": [
    {
     "name": "stdout",
     "output_type": "stream",
     "text": [
      "DatasetDict({\n",
      "    train: Dataset({\n",
      "        features: ['id', 'verse_text', 'label'],\n",
      "        num_rows: 892\n",
      "    })\n",
      "    validation: Dataset({\n",
      "        features: ['id', 'verse_text', 'label'],\n",
      "        num_rows: 105\n",
      "    })\n",
      "    test: Dataset({\n",
      "        features: ['id', 'verse_text', 'label'],\n",
      "        num_rows: 104\n",
      "    })\n",
      "})\n"
     ]
    }
   ],
   "source": [
    "ds = load_dataset(\"poem_sentiment\")\n",
    "print(ds)"
   ]
  },
  {
   "cell_type": "code",
   "execution_count": 7,
   "id": "455c9c3c-2c5d-4a77-95f4-2574f0b365ce",
   "metadata": {
    "scrolled": true
   },
   "outputs": [
    {
     "data": {
      "text/plain": [
       "DatasetDict({\n",
       "    train: Dataset({\n",
       "        features: ['id', 'verse_text', 'label'],\n",
       "        num_rows: 892\n",
       "    })\n",
       "    validation: Dataset({\n",
       "        features: ['id', 'verse_text', 'label'],\n",
       "        num_rows: 105\n",
       "    })\n",
       "    test: Dataset({\n",
       "        features: ['id', 'verse_text', 'label'],\n",
       "        num_rows: 104\n",
       "    })\n",
       "})"
      ]
     },
     "execution_count": 7,
     "metadata": {},
     "output_type": "execute_result"
    }
   ],
   "source": [
    "from datasets import load_dataset\n",
    "ds_original_from_hf = load_dataset(\"poem_sentiment\")\n",
    "ds_original_from_hf"
   ]
  },
  {
   "cell_type": "code",
   "execution_count": 8,
   "id": "7d8312ca-ad32-41f0-9e61-c3750d97e702",
   "metadata": {},
   "outputs": [
    {
     "data": {
      "text/plain": [
       "Dataset({\n",
       "    features: ['id', 'verse_text', 'label'],\n",
       "    num_rows: 892\n",
       "})"
      ]
     },
     "execution_count": 8,
     "metadata": {},
     "output_type": "execute_result"
    }
   ],
   "source": [
    "train_ds = ds_original_from_hf['train']\n",
    "train_ds"
   ]
  },
  {
   "cell_type": "code",
   "execution_count": 9,
   "id": "d4f886b3-6c7e-45ff-a955-77bb53aa1880",
   "metadata": {},
   "outputs": [
    {
     "data": {
      "text/plain": [
       "['negative', 'positive', 'no_impact', 'mixed']"
      ]
     },
     "execution_count": 9,
     "metadata": {},
     "output_type": "execute_result"
    }
   ],
   "source": [
    "label_names = ds_original_from_hf['train'].features['label'].names\n",
    "label_names"
   ]
  },
  {
   "cell_type": "code",
   "execution_count": 10,
   "id": "0f7f8d6c-6ee7-4161-b7a1-2b390abdfb09",
   "metadata": {},
   "outputs": [
    {
     "name": "stdout",
     "output_type": "stream",
     "text": [
      "Length of the Data 892\n"
     ]
    },
    {
     "data": {
      "text/plain": [
       "{'id': 0,\n",
       " 'verse_text': 'with pale blue berries. in these peaceful shades--',\n",
       " 'label': 1}"
      ]
     },
     "execution_count": 10,
     "metadata": {},
     "output_type": "execute_result"
    }
   ],
   "source": [
    "print('Length of the Data', len(train_ds))\n",
    "train_ds[0]"
   ]
  },
  {
   "cell_type": "code",
   "execution_count": 11,
   "id": "ce8d39e4-3e2e-4bc7-94a5-8c454ab497e6",
   "metadata": {},
   "outputs": [
    {
     "data": {
      "text/plain": [
       "['id', 'verse_text', 'label']"
      ]
     },
     "execution_count": 11,
     "metadata": {},
     "output_type": "execute_result"
    }
   ],
   "source": [
    "train_ds.column_names"
   ]
  },
  {
   "cell_type": "code",
   "execution_count": 12,
   "id": "45ce271c-6ba6-4eba-b624-271e893d68fb",
   "metadata": {},
   "outputs": [
    {
     "data": {
      "text/plain": [
       "{'id': Value('int32'),\n",
       " 'verse_text': Value('string'),\n",
       " 'label': ClassLabel(names=['negative', 'positive', 'no_impact', 'mixed'])}"
      ]
     },
     "execution_count": 12,
     "metadata": {},
     "output_type": "execute_result"
    }
   ],
   "source": [
    "train_ds.features"
   ]
  },
  {
   "cell_type": "code",
   "execution_count": 13,
   "id": "abf1676a-b7c6-4d49-b080-166be6711bd3",
   "metadata": {},
   "outputs": [
    {
     "data": {
      "text/plain": [
       "{'id': [0, 1],\n",
       " 'verse_text': ['with pale blue berries. in these peaceful shades--',\n",
       "  'it flows so long as falls the rain,'],\n",
       " 'label': [1, 2]}"
      ]
     },
     "execution_count": 13,
     "metadata": {},
     "output_type": "execute_result"
    }
   ],
   "source": [
    "train_ds[:2]"
   ]
  },
  {
   "cell_type": "code",
   "execution_count": 14,
   "id": "48f9de85-247c-4136-a8cc-17906529dcc9",
   "metadata": {},
   "outputs": [
    {
     "data": {
      "text/plain": [
       "['with pale blue berries. in these peaceful shades--',\n",
       " 'it flows so long as falls the rain,']"
      ]
     },
     "execution_count": 14,
     "metadata": {},
     "output_type": "execute_result"
    }
   ],
   "source": [
    "train_ds['verse_text'][:2]"
   ]
  },
  {
   "cell_type": "code",
   "execution_count": 15,
   "id": "fc802363-a5ee-4f4f-a8af-b84e35329650",
   "metadata": {},
   "outputs": [
    {
     "data": {
      "text/html": [
       "<div>\n",
       "<style scoped>\n",
       "    .dataframe tbody tr th:only-of-type {\n",
       "        vertical-align: middle;\n",
       "    }\n",
       "\n",
       "    .dataframe tbody tr th {\n",
       "        vertical-align: top;\n",
       "    }\n",
       "\n",
       "    .dataframe thead th {\n",
       "        text-align: right;\n",
       "    }\n",
       "</style>\n",
       "<table border=\"1\" class=\"dataframe\">\n",
       "  <thead>\n",
       "    <tr style=\"text-align: right;\">\n",
       "      <th></th>\n",
       "      <th>id</th>\n",
       "      <th>verse_text</th>\n",
       "      <th>label</th>\n",
       "    </tr>\n",
       "  </thead>\n",
       "  <tbody>\n",
       "    <tr>\n",
       "      <th>0</th>\n",
       "      <td>0</td>\n",
       "      <td>with pale blue berries. in these peaceful shad...</td>\n",
       "      <td>1</td>\n",
       "    </tr>\n",
       "    <tr>\n",
       "      <th>1</th>\n",
       "      <td>1</td>\n",
       "      <td>it flows so long as falls the rain,</td>\n",
       "      <td>2</td>\n",
       "    </tr>\n",
       "    <tr>\n",
       "      <th>2</th>\n",
       "      <td>2</td>\n",
       "      <td>and that is why, the lonesome day,</td>\n",
       "      <td>0</td>\n",
       "    </tr>\n",
       "    <tr>\n",
       "      <th>3</th>\n",
       "      <td>3</td>\n",
       "      <td>when i peruse the conquered fame of heroes, an...</td>\n",
       "      <td>3</td>\n",
       "    </tr>\n",
       "    <tr>\n",
       "      <th>4</th>\n",
       "      <td>4</td>\n",
       "      <td>of inward strife for truth and liberty.</td>\n",
       "      <td>3</td>\n",
       "    </tr>\n",
       "  </tbody>\n",
       "</table>\n",
       "</div>"
      ],
      "text/plain": [
       "   id                                         verse_text  label\n",
       "0   0  with pale blue berries. in these peaceful shad...      1\n",
       "1   1                it flows so long as falls the rain,      2\n",
       "2   2                 and that is why, the lonesome day,      0\n",
       "3   3  when i peruse the conquered fame of heroes, an...      3\n",
       "4   4            of inward strife for truth and liberty.      3"
      ]
     },
     "execution_count": 15,
     "metadata": {},
     "output_type": "execute_result"
    }
   ],
   "source": [
    "train = pd.DataFrame(ds_original_from_hf['train'])\n",
    "train.head()"
   ]
  },
  {
   "cell_type": "code",
   "execution_count": 16,
   "id": "9f1c8e80-cc43-4e03-8707-cd31d4562a84",
   "metadata": {},
   "outputs": [
    {
     "data": {
      "image/png": "[encoded data removed]",
      "text/plain": [
       "<Figure size 640x480 with 1 Axes>"
      ]
     },
     "metadata": {},
     "output_type": "display_data"
    }
   ],
   "source": [
    "train['label'].value_counts(ascending=True).plot.barh()\n",
    "plt.show()"
   ]
  },
  {
   "cell_type": "code",
   "execution_count": null,
   "id": "86c01f29-cc9a-4886-8af7-610fb6872746",
   "metadata": {},
   "outputs": [],
   "source": []
  },
  {
   "cell_type": "markdown",
   "id": "55454d64-c7e5-4c9b-925c-e60d473449e2",
   "metadata": {},
   "source": [
    "## Tokenize"
   ]
  },
  {
   "cell_type": "code",
   "execution_count": 17,
   "id": "90ddbae2-13a8-430b-9f1a-69d82e05c7c4",
   "metadata": {},
   "outputs": [
    {
     "name": "stdout",
     "output_type": "stream",
     "text": [
      "Requirement already satisfied: transformers in c:\\users\\syed sarafeena ali\\anaconda\\lib\\site-packages (4.57.1)\n",
      "Requirement already satisfied: filelock in c:\\users\\syed sarafeena ali\\anaconda\\lib\\site-packages (from transformers) (3.17.0)\n",
      "Requirement already satisfied: huggingface-hub<1.0,>=0.34.0 in c:\\users\\syed sarafeena ali\\anaconda\\lib\\site-packages (from transformers) (0.34.1)\n",
      "Requirement already satisfied: numpy>=1.17 in c:\\users\\syed sarafeena ali\\anaconda\\lib\\site-packages (from transformers) (2.1.3)\n",
      "Requirement already satisfied: packaging>=20.0 in c:\\users\\syed sarafeena ali\\appdata\\roaming\\python\\python313\\site-packages (from transformers) (25.0)\n",
      "Requirement already satisfied: pyyaml>=5.1 in c:\\users\\syed sarafeena ali\\anaconda\\lib\\site-packages (from transformers) (6.0.2)\n",
      "Requirement already satisfied: regex!=2019.12.17 in c:\\users\\syed sarafeena ali\\anaconda\\lib\\site-packages (from transformers) (2024.11.6)\n",
      "Requirement already satisfied: requests in c:\\users\\syed sarafeena ali\\anaconda\\lib\\site-packages (from transformers) (2.32.3)\n",
      "Requirement already satisfied: tokenizers<=0.23.0,>=0.22.0 in c:\\users\\syed sarafeena ali\\anaconda\\lib\\site-packages (from transformers) (0.22.0)\n",
      "Requirement already satisfied: safetensors>=0.4.3 in c:\\users\\syed sarafeena ali\\anaconda\\lib\\site-packages (from transformers) (0.5.3)\n",
      "Requirement already satisfied: tqdm>=4.27 in c:\\users\\syed sarafeena ali\\anaconda\\lib\\site-packages (from transformers) (4.67.1)\n",
      "Requirement already satisfied: fsspec>=2023.5.0 in c:\\users\\syed sarafeena ali\\anaconda\\lib\\site-packages (from huggingface-hub<1.0,>=0.34.0->transformers) (2025.3.0)\n",
      "Requirement already satisfied: typing-extensions>=3.7.4.3 in c:\\users\\syed sarafeena ali\\anaconda\\lib\\site-packages (from huggingface-hub<1.0,>=0.34.0->transformers) (4.12.2)\n",
      "Requirement already satisfied: colorama in c:\\users\\syed sarafeena ali\\appdata\\roaming\\python\\python313\\site-packages (from tqdm>=4.27->transformers) (0.4.6)\n",
      "Requirement already satisfied: charset-normalizer<4,>=2 in c:\\users\\syed sarafeena ali\\anaconda\\lib\\site-packages (from requests->transformers) (3.3.2)\n",
      "Requirement already satisfied: idna<4,>=2.5 in c:\\users\\syed sarafeena ali\\anaconda\\lib\\site-packages (from requests->transformers) (3.7)\n",
      "Requirement already satisfied: urllib3<3,>=1.21.1 in c:\\users\\syed sarafeena ali\\anaconda\\lib\\site-packages (from requests->transformers) (2.3.0)\n",
      "Requirement already satisfied: certifi>=2017.4.17 in c:\\users\\syed sarafeena ali\\anaconda\\lib\\site-packages (from requests->transformers) (2025.4.26)\n"
     ]
    },
    {
     "name": "stderr",
     "output_type": "stream",
     "text": [
      "\n",
      "[notice] A new release of pip is available: 25.1.1 -> 25.2\n",
      "[notice] To update, run: C:\\Users\\SYED SARAFEENA ALI\\anaconda\\python.exe -m pip install --upgrade pip\n"
     ]
    },
    {
     "name": "stdout",
     "output_type": "stream",
     "text": [
      "Requirement already satisfied: datasets in c:\\users\\syed sarafeena ali\\anaconda\\lib\\site-packages (4.0.0)\n",
      "Collecting datasets\n",
      "  Downloading datasets-4.2.0-py3-none-any.whl.metadata (18 kB)\n",
      "Requirement already satisfied: filelock in c:\\users\\syed sarafeena ali\\anaconda\\lib\\site-packages (from datasets) (3.17.0)\n",
      "Requirement already satisfied: numpy>=1.17 in c:\\users\\syed sarafeena ali\\anaconda\\lib\\site-packages (from datasets) (2.1.3)\n",
      "Collecting pyarrow>=21.0.0 (from datasets)\n",
      "  Downloading pyarrow-21.0.0-cp313-cp313-win_amd64.whl.metadata (3.4 kB)\n",
      "Requirement already satisfied: dill<0.4.1,>=0.3.0 in c:\\users\\syed sarafeena ali\\anaconda\\lib\\site-packages (from datasets) (0.3.8)\n",
      "Requirement already satisfied: pandas in c:\\users\\syed sarafeena ali\\anaconda\\lib\\site-packages (from datasets) (2.2.3)\n",
      "Requirement already satisfied: requests>=2.32.2 in c:\\users\\syed sarafeena ali\\anaconda\\lib\\site-packages (from datasets) (2.32.3)\n",
      "Requirement already satisfied: httpx<1.0.0 in c:\\users\\syed sarafeena ali\\anaconda\\lib\\site-packages (from datasets) (0.28.1)\n",
      "Requirement already satisfied: tqdm>=4.66.3 in c:\\users\\syed sarafeena ali\\anaconda\\lib\\site-packages (from datasets) (4.67.1)\n",
      "Requirement already satisfied: xxhash in c:\\users\\syed sarafeena ali\\anaconda\\lib\\site-packages (from datasets) (3.5.0)\n",
      "Requirement already satisfied: multiprocess<0.70.17 in c:\\users\\syed sarafeena ali\\anaconda\\lib\\site-packages (from datasets) (0.70.16)\n",
      "Requirement already satisfied: fsspec<=2025.9.0,>=2023.1.0 in c:\\users\\syed sarafeena ali\\anaconda\\lib\\site-packages (from fsspec[http]<=2025.9.0,>=2023.1.0->datasets) (2025.3.0)\n",
      "Requirement already satisfied: huggingface-hub<2.0,>=0.25.0 in c:\\users\\syed sarafeena ali\\anaconda\\lib\\site-packages (from datasets) (0.34.1)\n",
      "Requirement already satisfied: packaging in c:\\users\\syed sarafeena ali\\appdata\\roaming\\python\\python313\\site-packages (from datasets) (25.0)\n",
      "Requirement already satisfied: pyyaml>=5.1 in c:\\users\\syed sarafeena ali\\anaconda\\lib\\site-packages (from datasets) (6.0.2)\n",
      "Requirement already satisfied: aiohttp!=4.0.0a0,!=4.0.0a1 in c:\\users\\syed sarafeena ali\\anaconda\\lib\\site-packages (from fsspec[http]<=2025.9.0,>=2023.1.0->datasets) (3.11.10)\n",
      "Requirement already satisfied: anyio in c:\\users\\syed sarafeena ali\\anaconda\\lib\\site-packages (from httpx<1.0.0->datasets) (4.7.0)\n",
      "Requirement already satisfied: certifi in c:\\users\\syed sarafeena ali\\anaconda\\lib\\site-packages (from httpx<1.0.0->datasets) (2025.4.26)\n",
      "Requirement already satisfied: httpcore==1.* in c:\\users\\syed sarafeena ali\\anaconda\\lib\\site-packages (from httpx<1.0.0->datasets) (1.0.9)\n",
      "Requirement already satisfied: idna in c:\\users\\syed sarafeena ali\\anaconda\\lib\\site-packages (from httpx<1.0.0->datasets) (3.7)\n",
      "Requirement already satisfied: h11>=0.16 in c:\\users\\syed sarafeena ali\\anaconda\\lib\\site-packages (from httpcore==1.*->httpx<1.0.0->datasets) (0.16.0)\n",
      "Requirement already satisfied: typing-extensions>=3.7.4.3 in c:\\users\\syed sarafeena ali\\anaconda\\lib\\site-packages (from huggingface-hub<2.0,>=0.25.0->datasets) (4.12.2)\n",
      "Requirement already satisfied: aiohappyeyeballs>=2.3.0 in c:\\users\\syed sarafeena ali\\anaconda\\lib\\site-packages (from aiohttp!=4.0.0a0,!=4.0.0a1->fsspec[http]<=2025.9.0,>=2023.1.0->datasets) (2.4.4)\n",
      "Requirement already satisfied: aiosignal>=1.1.2 in c:\\users\\syed sarafeena ali\\anaconda\\lib\\site-packages (from aiohttp!=4.0.0a0,!=4.0.0a1->fsspec[http]<=2025.9.0,>=2023.1.0->datasets) (1.2.0)\n",
      "Requirement already satisfied: attrs>=17.3.0 in c:\\users\\syed sarafeena ali\\anaconda\\lib\\site-packages (from aiohttp!=4.0.0a0,!=4.0.0a1->fsspec[http]<=2025.9.0,>=2023.1.0->datasets) (24.3.0)\n",
      "Requirement already satisfied: frozenlist>=1.1.1 in c:\\users\\syed sarafeena ali\\anaconda\\lib\\site-packages (from aiohttp!=4.0.0a0,!=4.0.0a1->fsspec[http]<=2025.9.0,>=2023.1.0->datasets) (1.5.0)\n",
      "Requirement already satisfied: multidict<7.0,>=4.5 in c:\\users\\syed sarafeena ali\\anaconda\\lib\\site-packages (from aiohttp!=4.0.0a0,!=4.0.0a1->fsspec[http]<=2025.9.0,>=2023.1.0->datasets) (6.1.0)\n",
      "Requirement already satisfied: propcache>=0.2.0 in c:\\users\\syed sarafeena ali\\anaconda\\lib\\site-packages (from aiohttp!=4.0.0a0,!=4.0.0a1->fsspec[http]<=2025.9.0,>=2023.1.0->datasets) (0.3.1)\n",
      "Requirement already satisfied: yarl<2.0,>=1.17.0 in c:\\users\\syed sarafeena ali\\anaconda\\lib\\site-packages (from aiohttp!=4.0.0a0,!=4.0.0a1->fsspec[http]<=2025.9.0,>=2023.1.0->datasets) (1.18.0)\n",
      "Requirement already satisfied: charset-normalizer<4,>=2 in c:\\users\\syed sarafeena ali\\anaconda\\lib\\site-packages (from requests>=2.32.2->datasets) (3.3.2)\n",
      "Requirement already satisfied: urllib3<3,>=1.21.1 in c:\\users\\syed sarafeena ali\\anaconda\\lib\\site-packages (from requests>=2.32.2->datasets) (2.3.0)\n",
      "Requirement already satisfied: colorama in c:\\users\\syed sarafeena ali\\appdata\\roaming\\python\\python313\\site-packages (from tqdm>=4.66.3->datasets) (0.4.6)\n",
      "Requirement already satisfied: sniffio>=1.1 in c:\\users\\syed sarafeena ali\\anaconda\\lib\\site-packages (from anyio->httpx<1.0.0->datasets) (1.3.0)\n",
      "Requirement already satisfied: python-dateutil>=2.8.2 in c:\\users\\syed sarafeena ali\\appdata\\roaming\\python\\python313\\site-packages (from pandas->datasets) (2.9.0.post0)\n",
      "Requirement already satisfied: pytz>=2020.1 in c:\\users\\syed sarafeena ali\\anaconda\\lib\\site-packages (from pandas->datasets) (2024.1)\n",
      "Requirement already satisfied: tzdata>=2022.7 in c:\\users\\syed sarafeena ali\\anaconda\\lib\\site-packages (from pandas->datasets) (2025.2)\n",
      "Requirement already satisfied: six>=1.5 in c:\\users\\syed sarafeena ali\\appdata\\roaming\\python\\python313\\site-packages (from python-dateutil>=2.8.2->pandas->datasets) (1.17.0)\n",
      "Downloading datasets-4.2.0-py3-none-any.whl (506 kB)\n",
      "Downloading pyarrow-21.0.0-cp313-cp313-win_amd64.whl (26.1 MB)\n",
      "   ---------------------------------------- 0.0/26.1 MB ? eta -:--:--\n",
      "    --------------------------------------- 0.5/26.1 MB 2.5 MB/s eta 0:00:11\n",
      "   -- ------------------------------------- 1.3/26.1 MB 3.0 MB/s eta 0:00:09\n",
      "   --- ------------------------------------ 2.1/26.1 MB 3.6 MB/s eta 0:00:07\n",
      "   ---- ----------------------------------- 3.1/26.1 MB 3.9 MB/s eta 0:00:06\n",
      "   ------ --------------------------------- 3.9/26.1 MB 3.9 MB/s eta 0:00:06\n",
      "   ------ --------------------------------- 4.5/26.1 MB 3.8 MB/s eta 0:00:06\n",
      "   ------- -------------------------------- 4.7/26.1 MB 3.6 MB/s eta 0:00:06\n",
      "   -------- ------------------------------- 5.2/26.1 MB 3.3 MB/s eta 0:00:07\n",
      "   -------- ------------------------------- 5.5/26.1 MB 3.1 MB/s eta 0:00:07\n",
      "   -------- ------------------------------- 5.8/26.1 MB 3.0 MB/s eta 0:00:07\n",
      "   --------- ------------------------------ 6.3/26.1 MB 2.8 MB/s eta 0:00:08\n",
      "   ---------- ----------------------------- 6.6/26.1 MB 2.8 MB/s eta 0:00:08\n",
      "   ---------- ----------------------------- 6.8/26.1 MB 2.6 MB/s eta 0:00:08\n",
      "   ---------- ----------------------------- 7.1/26.1 MB 2.5 MB/s eta 0:00:08\n",
      "   ----------- ---------------------------- 7.6/26.1 MB 2.4 MB/s eta 0:00:08\n",
      "   ------------ --------------------------- 8.1/26.1 MB 2.4 MB/s eta 0:00:08\n",
      "   ------------ --------------------------- 8.4/26.1 MB 2.4 MB/s eta 0:00:08\n",
      "   ------------- -------------------------- 8.7/26.1 MB 2.3 MB/s eta 0:00:08\n",
      "   ------------- -------------------------- 8.9/26.1 MB 2.3 MB/s eta 0:00:08\n",
      "   -------------- ------------------------- 9.4/26.1 MB 2.3 MB/s eta 0:00:08\n",
      "   --------------- ------------------------ 10.0/26.1 MB 2.3 MB/s eta 0:00:08\n",
      "   --------------- ------------------------ 10.2/26.1 MB 2.3 MB/s eta 0:00:08\n",
      "   ---------------- ----------------------- 10.5/26.1 MB 2.2 MB/s eta 0:00:07\n",
      "   ------------------ --------------------- 11.8/26.1 MB 2.3 MB/s eta 0:00:07\n",
      "   -------------------- ------------------- 13.4/26.1 MB 2.5 MB/s eta 0:00:06\n",
      "   ---------------------- ----------------- 14.9/26.1 MB 2.7 MB/s eta 0:00:05\n",
      "   ------------------------ --------------- 16.3/26.1 MB 2.9 MB/s eta 0:00:04\n",
      "   --------------------------- ------------ 17.8/26.1 MB 3.0 MB/s eta 0:00:03\n",
      "   ----------------------------- ---------- 19.1/26.1 MB 3.1 MB/s eta 0:00:03\n",
      "   ------------------------------- -------- 20.4/26.1 MB 3.3 MB/s eta 0:00:02\n",
      "   -------------------------------- ------- 21.5/26.1 MB 3.3 MB/s eta 0:00:02\n",
      "   ---------------------------------- ----- 22.8/26.1 MB 3.4 MB/s eta 0:00:01\n",
      "   ------------------------------------ --- 24.1/26.1 MB 3.5 MB/s eta 0:00:01\n",
      "   -------------------------------------- - 25.2/26.1 MB 3.5 MB/s eta 0:00:01\n",
      "   ---------------------------------------- 26.1/26.1 MB 3.6 MB/s eta 0:00:00\n",
      "Installing collected packages: pyarrow, datasets\n",
      "\n",
      "  Attempting uninstall: pyarrow\n",
      "\n",
      "    Found existing installation: pyarrow 19.0.0\n",
      "\n",
      "   ---------------------------------------- 0/2 [pyarrow]\n",
      "    Uninstalling pyarrow-19.0.0:\n",
      "   ---------------------------------------- 0/2 [pyarrow]\n",
      "      Successfully uninstalled pyarrow-19.0.0\n",
      "   ---------------------------------------- 0/2 [pyarrow]\n",
      "   ---------------------------------------- 0/2 [pyarrow]\n",
      "   ---------------------------------------- 0/2 [pyarrow]\n",
      "   ---------------------------------------- 0/2 [pyarrow]\n",
      "   ---------------------------------------- 0/2 [pyarrow]\n",
      "   ---------------------------------------- 0/2 [pyarrow]\n",
      "   ---------------------------------------- 0/2 [pyarrow]\n",
      "   ---------------------------------------- 0/2 [pyarrow]\n",
      "   ---------------------------------------- 0/2 [pyarrow]\n",
      "   ---------------------------------------- 0/2 [pyarrow]\n",
      "   ---------------------------------------- 0/2 [pyarrow]\n",
      "   ---------------------------------------- 0/2 [pyarrow]\n",
      "   ---------------------------------------- 0/2 [pyarrow]\n",
      "   ---------------------------------------- 0/2 [pyarrow]\n",
      "   ---------------------------------------- 0/2 [pyarrow]\n",
      "   ---------------------------------------- 0/2 [pyarrow]\n",
      "   ---------------------------------------- 0/2 [pyarrow]\n",
      "   ---------------------------------------- 0/2 [pyarrow]\n",
      "   ---------------------------------------- 0/2 [pyarrow]\n",
      "   ---------------------------------------- 0/2 [pyarrow]\n",
      "   ---------------------------------------- 0/2 [pyarrow]\n",
      "   ---------------------------------------- 0/2 [pyarrow]\n",
      "   ---------------------------------------- 0/2 [pyarrow]\n",
      "   ---------------------------------------- 0/2 [pyarrow]\n",
      "   ---------------------------------------- 0/2 [pyarrow]\n",
      "   ---------------------------------------- 0/2 [pyarrow]\n",
      "   ---------------------------------------- 0/2 [pyarrow]\n",
      "   ---------------------------------------- 0/2 [pyarrow]\n",
      "   ---------------------------------------- 0/2 [pyarrow]\n",
      "   ---------------------------------------- 0/2 [pyarrow]\n",
      "   ---------------------------------------- 0/2 [pyarrow]\n",
      "   ---------------------------------------- 0/2 [pyarrow]\n",
      "   ---------------------------------------- 0/2 [pyarrow]\n",
      "   ---------------------------------------- 0/2 [pyarrow]\n",
      "  Attempting uninstall: datasets\n",
      "   ---------------------------------------- 0/2 [pyarrow]\n",
      "    Found existing installation: datasets 4.0.0\n",
      "   ---------------------------------------- 0/2 [pyarrow]\n",
      "   -------------------- ------------------- 1/2 [datasets]\n",
      "    Uninstalling datasets-4.0.0:\n",
      "   -------------------- ------------------- 1/2 [datasets]\n",
      "      Successfully uninstalled datasets-4.0.0\n",
      "   -------------------- ------------------- 1/2 [datasets]\n",
      "   -------------------- ------------------- 1/2 [datasets]\n",
      "   -------------------- ------------------- 1/2 [datasets]\n",
      "   -------------------- ------------------- 1/2 [datasets]\n",
      "   -------------------- ------------------- 1/2 [datasets]\n",
      "   -------------------- ------------------- 1/2 [datasets]\n",
      "   -------------------- ------------------- 1/2 [datasets]\n",
      "   -------------------- ------------------- 1/2 [datasets]\n",
      "   -------------------- ------------------- 1/2 [datasets]\n",
      "   -------------------- ------------------- 1/2 [datasets]\n",
      "   -------------------- ------------------- 1/2 [datasets]\n",
      "   -------------------- ------------------- 1/2 [datasets]\n",
      "   -------------------- ------------------- 1/2 [datasets]\n",
      "   -------------------- ------------------- 1/2 [datasets]\n",
      "   -------------------- ------------------- 1/2 [datasets]\n",
      "   -------------------- ------------------- 1/2 [datasets]\n",
      "   -------------------- ------------------- 1/2 [datasets]\n",
      "   -------------------- ------------------- 1/2 [datasets]\n",
      "   -------------------- ------------------- 1/2 [datasets]\n",
      "   -------------------- ------------------- 1/2 [datasets]\n",
      "   -------------------- ------------------- 1/2 [datasets]\n",
      "   ---------------------------------------- 2/2 [datasets]\n",
      "\n",
      "Successfully installed datasets-4.2.0 pyarrow-21.0.0\n"
     ]
    },
    {
     "name": "stderr",
     "output_type": "stream",
     "text": [
      "ERROR: pip's dependency resolver does not currently take into account all the packages that are installed. This behaviour is the source of the following dependency conflicts.\n",
      "streamlit 1.45.1 requires packaging<25,>=20, but you have packaging 25.0 which is incompatible.\n",
      "\n",
      "[notice] A new release of pip is available: 25.1.1 -> 25.2\n",
      "[notice] To update, run: C:\\Users\\SYED SARAFEENA ALI\\anaconda\\python.exe -m pip install --upgrade pip\n"
     ]
    }
   ],
   "source": [
    "import sys\n",
    "!\"{sys.executable}\" -m pip install --upgrade transformers\n",
    "!\"{sys.executable}\" -m pip install --upgrade datasets"
   ]
  },
  {
   "cell_type": "code",
   "execution_count": 18,
   "id": "cc62b9fc-f41a-4d50-b7e7-d69bc9fda044",
   "metadata": {},
   "outputs": [],
   "source": [
    "from transformers import AutoTokenizer\n",
    "model_cpkt = 'distilbert-base-uncased'\n",
    "tokenizer = AutoTokenizer.from_pretrained(model_cpkt)"
   ]
  },
  {
   "cell_type": "code",
   "execution_count": 19,
   "id": "685552c7-3274-4b3c-a690-80e4453f2d7a",
   "metadata": {
    "scrolled": true
   },
   "outputs": [
    {
     "name": "stdout",
     "output_type": "stream",
     "text": [
      "tokenizer vocab size:  30522\n",
      "model max length:  512\n",
      "Feature name:  ['input_ids', 'attention_mask']\n"
     ]
    }
   ],
   "source": [
    "print('tokenizer vocab size: ',tokenizer.vocab_size)\n",
    "print('model max length: ',tokenizer.model_max_length)\n",
    "print('Feature name: ',tokenizer.model_input_names)"
   ]
  },
  {
   "cell_type": "code",
   "execution_count": 20,
   "id": "5788325d-2aab-4800-98aa-748b52be9913",
   "metadata": {},
   "outputs": [],
   "source": [
    "def tokenize(batch):\n",
    "    return tokenizer(batch[\"verse_text\"], padding=True, truncation=True)"
   ]
  },
  {
   "cell_type": "code",
   "execution_count": 21,
   "id": "6d8d85df-2d88-4798-8872-828ec6cccb6f",
   "metadata": {},
   "outputs": [
    {
     "name": "stdout",
     "output_type": "stream",
     "text": [
      "{'input_ids': [[101, 2007, 5122, 2630, 22681, 1012, 1999, 2122, 9379, 13178, 1011, 1011, 102], [101, 2009, 6223, 2061, 2146, 2004, 4212, 1996, 4542, 1010, 102, 0, 0]], 'attention_mask': [[1, 1, 1, 1, 1, 1, 1, 1, 1, 1, 1, 1, 1], [1, 1, 1, 1, 1, 1, 1, 1, 1, 1, 1, 0, 0]]}\n"
     ]
    }
   ],
   "source": [
    "print(tokenize(ds_original_from_hf[\"train\"][:2]))"
   ]
  },
  {
   "cell_type": "code",
   "execution_count": 22,
   "id": "dbdaf6af-50a6-4027-a2f2-2be212cbb3f9",
   "metadata": {},
   "outputs": [
    {
     "data": {
      "text/html": [
       "<img src=\"https://i.imgur.com/f7CHg4R.png\" width=\"400\"/>"
      ],
      "text/plain": [
       "<IPython.core.display.Image object>"
      ]
     },
     "metadata": {},
     "output_type": "display_data"
    },
    {
     "data": {
      "text/html": [
       "<img src=\"https://i.imgur.com/3RY8Gfl.png\" width=\"400\"/>"
      ],
      "text/plain": [
       "<IPython.core.display.Image object>"
      ]
     },
     "metadata": {},
     "output_type": "display_data"
    }
   ],
   "source": [
    "from IPython.display import Image, display\n",
    "\n",
    "display(Image(url='https://i.imgur.com/f7CHg4R.png', width=400))\n",
    "display(Image(url='https://i.imgur.com/3RY8Gfl.png', width=400))"
   ]
  },
  {
   "cell_type": "code",
   "execution_count": 23,
   "id": "8155372f-f102-4dd1-8cbe-1d39006115c0",
   "metadata": {},
   "outputs": [
    {
     "name": "stdout",
     "output_type": "stream",
     "text": [
      "Feature Names of Dataset:  ['id', 'verse_text', 'label', 'input_ids', 'attention_mask']\n"
     ]
    }
   ],
   "source": [
    "ds_pretrained_features_encoded = ds_original_from_hf.map(tokenize, batched=True, batch_size=None)\n",
    "print('Feature Names of Dataset: ',ds_pretrained_features_encoded['train'].column_names)"
   ]
  },
  {
   "cell_type": "code",
   "execution_count": null,
   "id": "f4a6cc08-f4e9-492f-892d-276d6ae5ad46",
   "metadata": {},
   "outputs": [],
   "source": []
  },
  {
   "cell_type": "markdown",
   "id": "e6661dfa-3b81-4f89-b0ef-3a9d71606537",
   "metadata": {},
   "source": [
    "## Training the Text Classifier - DistilBERT\n",
    "## Token Encoding > Token Embedding > Encoder Stack > Hidden States > Claasification Head > Prediction"
   ]
  },
  {
   "cell_type": "code",
   "execution_count": null,
   "id": "15345497-53f8-4c7a-ac74-7393776f0470",
   "metadata": {},
   "outputs": [],
   "source": []
  },
  {
   "cell_type": "markdown",
   "id": "b955575e-3d0b-4104-9956-9e148760f7d3",
   "metadata": {},
   "source": [
    "## Using Pretrained Model - DistilBERT"
   ]
  },
  {
   "cell_type": "code",
   "execution_count": 24,
   "id": "407006e7-6c40-48a9-812a-d44b5cb8ff8f",
   "metadata": {},
   "outputs": [],
   "source": [
    "!pip install torch torchvision torchaudio"
   ]
  },
  {
   "cell_type": "code",
   "execution_count": 25,
   "id": "dc8f6281-1c65-4ddd-ac13-dd38be6d3fe8",
   "metadata": {},
   "outputs": [
    {
     "name": "stdout",
     "output_type": "stream",
     "text": [
      "Torch version: 2.7.1+cpu\n",
      "CUDA available: False\n"
     ]
    }
   ],
   "source": [
    "import torch\n",
    "print(\"Torch version:\", torch.__version__)\n",
    "print(\"CUDA available:\", torch.cuda.is_available())"
   ]
  },
  {
   "cell_type": "code",
   "execution_count": 26,
   "id": "71ea5ca1-0a09-40c0-a146-11da1ebdfd1a",
   "metadata": {},
   "outputs": [],
   "source": [
    "from transformers import AutoModel\n",
    "model_ckpt = 'distilbert-base-uncased'\n",
    "device = torch.device('cuda' if torch.cuda.is_available() else 'cpu')\n",
    "model = AutoModel.from_pretrained(model_ckpt).to(device)"
   ]
  },
  {
   "cell_type": "code",
   "execution_count": 27,
   "id": "b956d6e4-78c1-48a7-a9e9-3f308f465ab1",
   "metadata": {},
   "outputs": [
    {
     "data": {
      "application/vnd.jupyter.widget-view+json": {
       "model_id": "21c41378338e41fcb312b57622e26b42",
       "version_major": 2,
       "version_minor": 0
      },
      "text/plain": [
       "Map:   0%|          | 0/892 [00:00<?, ? examples/s]"
      ]
     },
     "metadata": {},
     "output_type": "display_data"
    },
    {
     "data": {
      "application/vnd.jupyter.widget-view+json": {
       "model_id": "b31cd675fe8f48ba8dfef63469a63ec3",
       "version_major": 2,
       "version_minor": 0
      },
      "text/plain": [
       "Map:   0%|          | 0/105 [00:00<?, ? examples/s]"
      ]
     },
     "metadata": {},
     "output_type": "display_data"
    },
    {
     "data": {
      "application/vnd.jupyter.widget-view+json": {
       "model_id": "2e23ad251f6f4f97b4975e9d3c409d60",
       "version_major": 2,
       "version_minor": 0
      },
      "text/plain": [
       "Map:   0%|          | 0/104 [00:00<?, ? examples/s]"
      ]
     },
     "metadata": {},
     "output_type": "display_data"
    },
    {
     "data": {
      "text/plain": [
       "['id', 'verse_text', 'label', 'input_ids', 'attention_mask', 'hidden_state']"
      ]
     },
     "execution_count": 27,
     "metadata": {},
     "output_type": "execute_result"
    }
   ],
   "source": [
    "def get_hidden_state(batch):\n",
    "    inputs = {k:v.to(device) for k, v in batch.items()\n",
    "              if k in tokenizer.model_input_names}\n",
    "    with torch.no_grad():\n",
    "        last_hidden_state = model(**inputs).last_hidden_state\n",
    "    return{'hidden_state': last_hidden_state[:,0].cpu().numpy()}\n",
    "    \n",
    "ds_pretrained_features_encoded.set_format('torch', columns = [\"input_ids\", \"attention_mask\", \"label\"])\n",
    "pretrained_hidden_states = ds_pretrained_features_encoded.map(get_hidden_state, batched=True)\n",
    "pretrained_hidden_states['train'].column_names"
   ]
  },
  {
   "cell_type": "code",
   "execution_count": 28,
   "id": "895abe6e-e664-44c2-a958-8ccd1ec144fc",
   "metadata": {},
   "outputs": [
    {
     "data": {
      "text/plain": [
       "DatasetDict({\n",
       "    train: Dataset({\n",
       "        features: ['id', 'verse_text', 'label', 'input_ids', 'attention_mask', 'hidden_state'],\n",
       "        num_rows: 892\n",
       "    })\n",
       "    validation: Dataset({\n",
       "        features: ['id', 'verse_text', 'label', 'input_ids', 'attention_mask', 'hidden_state'],\n",
       "        num_rows: 105\n",
       "    })\n",
       "    test: Dataset({\n",
       "        features: ['id', 'verse_text', 'label', 'input_ids', 'attention_mask', 'hidden_state'],\n",
       "        num_rows: 104\n",
       "    })\n",
       "})"
      ]
     },
     "execution_count": 28,
     "metadata": {},
     "output_type": "execute_result"
    }
   ],
   "source": [
    "pretrained_hidden_states"
   ]
  },
  {
   "cell_type": "code",
   "execution_count": 29,
   "id": "2c95642f-6610-4ebc-bdfc-f197a7732362",
   "metadata": {},
   "outputs": [],
   "source": [
    "X_train = np.array(pretrained_hidden_states['train']['hidden_state'])\n",
    "X_valid = np.array (pretrained_hidden_states['validation'][\"hidden_state\"])\n",
    "\n",
    "y_train = np.array (pretrained_hidden_states [\"train\"][\"label\"])\n",
    "y_valid = np.array (pretrained_hidden_states[\"validation\"][\"label\"])"
   ]
  },
  {
   "cell_type": "code",
   "execution_count": 30,
   "id": "33150195-0dec-427b-9393-88d5a4d8e2eb",
   "metadata": {},
   "outputs": [
    {
     "name": "stderr",
     "output_type": "stream",
     "text": [
      "WARNING: Skipping umap as it is not installed.\n"
     ]
    },
    {
     "name": "stdout",
     "output_type": "stream",
     "text": [
      "Requirement already satisfied: umap-learn in c:\\users\\syed sarafeena ali\\anaconda\\lib\\site-packages (0.5.9.post2)\n",
      "Requirement already satisfied: numpy>=1.23 in c:\\users\\syed sarafeena ali\\anaconda\\lib\\site-packages (from umap-learn) (2.1.3)\n",
      "Requirement already satisfied: scipy>=1.3.1 in c:\\users\\syed sarafeena ali\\anaconda\\lib\\site-packages (from umap-learn) (1.15.3)\n",
      "Requirement already satisfied: scikit-learn>=1.6 in c:\\users\\syed sarafeena ali\\anaconda\\lib\\site-packages (from umap-learn) (1.6.1)\n",
      "Requirement already satisfied: numba>=0.51.2 in c:\\users\\syed sarafeena ali\\anaconda\\lib\\site-packages (from umap-learn) (0.61.0)\n",
      "Requirement already satisfied: pynndescent>=0.5 in c:\\users\\syed sarafeena ali\\anaconda\\lib\\site-packages (from umap-learn) (0.5.13)\n",
      "Requirement already satisfied: tqdm in c:\\users\\syed sarafeena ali\\anaconda\\lib\\site-packages (from umap-learn) (4.67.1)\n",
      "Requirement already satisfied: llvmlite<0.45,>=0.44.0dev0 in c:\\users\\syed sarafeena ali\\anaconda\\lib\\site-packages (from numba>=0.51.2->umap-learn) (0.44.0)\n",
      "Requirement already satisfied: joblib>=0.11 in c:\\users\\syed sarafeena ali\\anaconda\\lib\\site-packages (from pynndescent>=0.5->umap-learn) (1.4.2)\n",
      "Requirement already satisfied: threadpoolctl>=3.1.0 in c:\\users\\syed sarafeena ali\\anaconda\\lib\\site-packages (from scikit-learn>=1.6->umap-learn) (3.5.0)\n",
      "Requirement already satisfied: colorama in c:\\users\\syed sarafeena ali\\appdata\\roaming\\python\\python313\\site-packages (from tqdm->umap-learn) (0.4.6)\n"
     ]
    },
    {
     "name": "stderr",
     "output_type": "stream",
     "text": [
      "\n",
      "[notice] A new release of pip is available: 25.1.1 -> 25.2\n",
      "[notice] To update, run: C:\\Users\\SYED SARAFEENA ALI\\anaconda\\python.exe -m pip install --upgrade pip\n"
     ]
    }
   ],
   "source": [
    "import sys\n",
    "!\"{sys.executable}\" -m pip uninstall -y umap\n",
    "!\"{sys.executable}\" -m pip install umap-learn"
   ]
  },
  {
   "cell_type": "code",
   "execution_count": 31,
   "id": "f6277c6c-f1ae-46ed-ae9b-68076d58adb1",
   "metadata": {},
   "outputs": [
    {
     "data": {
      "text/html": [
       "<div>\n",
       "<style scoped>\n",
       "    .dataframe tbody tr th:only-of-type {\n",
       "        vertical-align: middle;\n",
       "    }\n",
       "\n",
       "    .dataframe tbody tr th {\n",
       "        vertical-align: top;\n",
       "    }\n",
       "\n",
       "    .dataframe thead th {\n",
       "        text-align: right;\n",
       "    }\n",
       "</style>\n",
       "<table border=\"1\" class=\"dataframe\">\n",
       "  <thead>\n",
       "    <tr style=\"text-align: right;\">\n",
       "      <th></th>\n",
       "      <th>X</th>\n",
       "      <th>Y</th>\n",
       "      <th>label</th>\n",
       "    </tr>\n",
       "  </thead>\n",
       "  <tbody>\n",
       "    <tr>\n",
       "      <th>0</th>\n",
       "      <td>-1.888059</td>\n",
       "      <td>0.891313</td>\n",
       "      <td>1</td>\n",
       "    </tr>\n",
       "    <tr>\n",
       "      <th>1</th>\n",
       "      <td>2.459925</td>\n",
       "      <td>2.501906</td>\n",
       "      <td>2</td>\n",
       "    </tr>\n",
       "    <tr>\n",
       "      <th>2</th>\n",
       "      <td>-0.174638</td>\n",
       "      <td>3.884973</td>\n",
       "      <td>0</td>\n",
       "    </tr>\n",
       "    <tr>\n",
       "      <th>3</th>\n",
       "      <td>2.973831</td>\n",
       "      <td>2.987650</td>\n",
       "      <td>3</td>\n",
       "    </tr>\n",
       "    <tr>\n",
       "      <th>4</th>\n",
       "      <td>-0.247921</td>\n",
       "      <td>2.155971</td>\n",
       "      <td>3</td>\n",
       "    </tr>\n",
       "  </tbody>\n",
       "</table>\n",
       "</div>"
      ],
      "text/plain": [
       "          X         Y  label\n",
       "0 -1.888059  0.891313      1\n",
       "1  2.459925  2.501906      2\n",
       "2 -0.174638  3.884973      0\n",
       "3  2.973831  2.987650      3\n",
       "4 -0.247921  2.155971      3"
      ]
     },
     "metadata": {},
     "output_type": "display_data"
    }
   ],
   "source": [
    "import umap.umap_ as umap\n",
    "from umap.umap_ import UMAP\n",
    "from sklearn.preprocessing import MinMaxScaler\n",
    "\n",
    "X_train_scaled = MinMaxScaler().fit_transform(X_train)\n",
    "mapper = umap.UMAP(n_components=2, metric='cosine').fit(X_train_scaled)\n",
    "df_embedded_from_hidden = pd.DataFrame(mapper.embedding_, columns=['X', 'Y'])\n",
    "df_embedded_from_hidden['label'] = y_train\n",
    "display(df_embedded_from_hidden.head())"
   ]
  },
  {
   "cell_type": "code",
   "execution_count": 32,
   "id": "a1421aa7-c7dc-47e4-9670-ae25bacf25af",
   "metadata": {},
   "outputs": [
    {
     "data": {
      "image/png": "[encoded data removed]",
      "text/plain": [
       "<Figure size 1000x600 with 6 Axes>"
      ]
     },
     "metadata": {},
     "output_type": "display_data"
    }
   ],
   "source": [
    "import matplotlib.pyplot as plt\n",
    "\n",
    "fig, axes = plt.subplots(2, 3, figsize=(10, 6))\n",
    "axes = axes.flatten()\n",
    "\n",
    "cmaps = [\"Greys\", \"Blues\", \"Oranges\", \"Reds\", \"Purples\", \"Greens\"]\n",
    "labels = ds_original_from_hf[\"train\"].features[\"label\"].names\n",
    "\n",
    "for i, (label_name, cmap) in enumerate(zip(labels, cmaps)):\n",
    "    # Filtering for the correct label index\n",
    "    label_index = labels.index(label_name)\n",
    "    df_label = df_embedded_from_hidden.query(f\"label == {label_index}\")\n",
    "    axes[i].hexbin(\n",
    "        df_label[\"X\"], df_label[\"Y\"],\n",
    "        cmap=cmap, gridsize=20,\n",
    "        linewidths=0, edgecolors=\"face\"\n",
    "    )\n",
    "    axes[i].set_title(label_name, color=\"white\")\n",
    "    axes[i].set_xticks([])\n",
    "    axes[i].set_yticks([])\n",
    "    \n",
    "for ax in axes[4:]:\n",
    "    ax.set_visible(False)\n",
    "    \n",
    "plt.tight_layout()\n",
    "plt.show()"
   ]
  },
  {
   "cell_type": "code",
   "execution_count": null,
   "id": "39c18f12-9d5b-4fa8-96dc-822903c38781",
   "metadata": {},
   "outputs": [],
   "source": []
  },
  {
   "cell_type": "markdown",
   "id": "9b2df318-0256-4e37-836a-574ee3732d36",
   "metadata": {},
   "source": [
    "## Training - Logistic Classifier"
   ]
  },
  {
   "cell_type": "code",
   "execution_count": 33,
   "id": "99aca8dd-b38b-4f77-add7-e84b857bef5e",
   "metadata": {},
   "outputs": [
    {
     "name": "stdout",
     "output_type": "stream",
     "text": [
      "Logistic Regression Score:  0.780952380952381\n"
     ]
    }
   ],
   "source": [
    "from sklearn.linear_model import LogisticRegression\n",
    "\n",
    "lr_clf = LogisticRegression(max_iter = 3000)\n",
    "lr_clf.fit(X_train,y_train)\n",
    "print('Logistic Regression Score: ', lr_clf.score(X_valid, y_valid))"
   ]
  },
  {
   "cell_type": "code",
   "execution_count": null,
   "id": "e67a1510-7d17-409a-ad21-cb61c949a4da",
   "metadata": {},
   "outputs": [],
   "source": []
  },
  {
   "cell_type": "markdown",
   "id": "883181c3-8fee-4cfa-a1f9-61982a0cfa0e",
   "metadata": {},
   "source": [
    "## Dummy Classifier"
   ]
  },
  {
   "cell_type": "code",
   "execution_count": 34,
   "id": "69f2e7cf-05c9-4352-af79-91698ee32db4",
   "metadata": {},
   "outputs": [
    {
     "name": "stdout",
     "output_type": "stream",
     "text": [
      "0.6571428571428571\n"
     ]
    }
   ],
   "source": [
    "from sklearn.dummy import DummyClassifier\n",
    "dummy_clf = DummyClassifier(strategy='most_frequent')\n",
    "dummy_clf.fit(X_train,y_train)\n",
    "print(dummy_clf.score(X_valid, y_valid))"
   ]
  },
  {
   "cell_type": "code",
   "execution_count": null,
   "id": "887098ee-4e73-4943-84c1-ab1f46dad7a3",
   "metadata": {},
   "outputs": [],
   "source": []
  },
  {
   "cell_type": "markdown",
   "id": "132424df-85dc-4a4d-80e7-0d4e3692efce",
   "metadata": {},
   "source": [
    "## Fine-Tuning DistilBERT"
   ]
  },
  {
   "cell_type": "code",
   "execution_count": 35,
   "id": "885ccca6-90a1-4ae8-a2ea-d2cf2fdda3e1",
   "metadata": {},
   "outputs": [
    {
     "name": "stderr",
     "output_type": "stream",
     "text": [
      "Some weights of DistilBertForSequenceClassification were not initialized from the model checkpoint at distilbert-base-uncased and are newly initialized: ['classifier.bias', 'classifier.weight', 'pre_classifier.bias', 'pre_classifier.weight']\n",
      "You should probably TRAIN this model on a down-stream task to be able to use it for predictions and inference.\n"
     ]
    }
   ],
   "source": [
    "from transformers import AutoModelForSequenceClassification\n",
    "num_labels = len(ds_original_from_hf['train'].features['label'].names)\n",
    "\n",
    "model = (AutoModelForSequenceClassification.from_pretrained(model_ckpt, num_labels = num_labels).to(device))\n",
    "\n",
    "from sklearn.metrics import accuracy_score, f1_score\n",
    "\n",
    "def compute_metric(pred):\n",
    "    labels = pred.label_ids\n",
    "    preds = pred.predictions.argmax(-1)\n",
    "    f1 = f1_score(labels, preds, average = 'weighted')\n",
    "    acc = accuracy_score(labels, preds)\n",
    "    return {'accuracy': acc, 'f1': 1}"
   ]
  },
  {
   "cell_type": "code",
   "execution_count": null,
   "id": "a55af4b8-1614-40d3-8ad9-235fd9e60bc9",
   "metadata": {},
   "outputs": [],
   "source": []
  },
  {
   "cell_type": "markdown",
   "id": "dd4892f4-6dad-458a-b16f-cce4127e969f",
   "metadata": {},
   "source": [
    "## Training"
   ]
  },
  {
   "cell_type": "code",
   "execution_count": 36,
   "id": "dcac9289-dc4b-45da-a4f4-268bec483030",
   "metadata": {},
   "outputs": [
    {
     "name": "stdout",
     "output_type": "stream",
     "text": [
      "Found existing installation: accelerate 1.9.0\n",
      "Uninstalling accelerate-1.9.0:\n",
      "  Successfully uninstalled accelerate-1.9.0\n",
      "Found existing installation: transformers 4.57.1\n",
      "Uninstalling transformers-4.57.1:\n",
      "  Successfully uninstalled transformers-4.57.1\n"
     ]
    },
    {
     "name": "stderr",
     "output_type": "stream",
     "text": [
      "\n",
      "[notice] A new release of pip is available: 25.1.1 -> 25.2\n",
      "[notice] To update, run: C:\\Users\\SYED SARAFEENA ALI\\anaconda\\python.exe -m pip install --upgrade pip\n"
     ]
    }
   ],
   "source": [
    "import sys\n",
    "!\"{sys.executable}\" -m pip uninstall -y accelerate transformers\n",
    "!\"{sys.executable}\" -m pip install \"transformers[torch]\" accelerate>=0.26.0"
   ]
  },
  {
   "cell_type": "code",
   "execution_count": 37,
   "id": "9817bf65-0212-474b-b2e0-1b67e3e9529d",
   "metadata": {},
   "outputs": [
    {
     "name": "stdout",
     "output_type": "stream",
     "text": [
      "transformers: 4.57.1\n",
      "accelerate: 1.9.0\n"
     ]
    }
   ],
   "source": [
    "import transformers, accelerate\n",
    "print(\"transformers:\", transformers.__version__)\n",
    "print(\"accelerate:\", accelerate.__version__)"
   ]
  },
  {
   "cell_type": "code",
   "execution_count": 38,
   "id": "d56fd4ff-0dea-4c3b-bc84-9f6f506c04fb",
   "metadata": {},
   "outputs": [],
   "source": [
    "from transformers import Trainer,TrainingArguments\n",
    "batch_size = 12\n",
    "logging_steps = len(ds_pretrained_features_encoded['train']) //batch_size\n",
    "model_name = f\"{model_ckpt}-finetune-poem\"\n",
    "\n",
    "training_args = TrainingArguments(output_dir=model_name,\n",
    "                                  num_train_epochs=2,\n",
    "                                  learning_rate=2e-5,\n",
    "                                  per_device_train_batch_size=batch_size,\n",
    "                                  per_device_eval_batch_size=batch_size,\n",
    "                                  weight_decay=0.01,\n",
    "                                  eval_strategy=\"epoch\",\n",
    "                                  logging_strategy=\"steps\",\n",
    "                                  logging_steps=logging_steps,\n",
    "                                  push_to_hub=False,\n",
    "                                  log_level=\"error\"\n",
    "                                 )"
   ]
  },
  {
   "cell_type": "code",
   "execution_count": 39,
   "id": "6b504587-99dd-4e58-9b30-4ea9eb2ab12a",
   "metadata": {},
   "outputs": [
    {
     "name": "stderr",
     "output_type": "stream",
     "text": [
      "C:\\Users\\SYED SARAFEENA ALI\\AppData\\Local\\Temp\\ipykernel_11888\\438785338.py:1: FutureWarning: `tokenizer` is deprecated and will be removed in version 5.0.0 for `Trainer.__init__`. Use `processing_class` instead.\n",
      "  trainer = Trainer(model=model, args=training_args,compute_metrics=compute_metric,\n",
      "C:\\Users\\SYED SARAFEENA ALI\\anaconda\\Lib\\site-packages\\torch\\utils\\data\\dataloader.py:665: UserWarning: 'pin_memory' argument is set as true but no accelerator is found, then device pinned memory won't be used.\n",
      "  warnings.warn(warn_msg)\n"
     ]
    },
    {
     "data": {
      "text/html": [
       "\n",
       "    <div>\n",
       "      \n",
       "      <progress value='150' max='150' style='width:300px; height:20px; vertical-align: middle;'></progress>\n",
       "      [150/150 02:53, Epoch 2/2]\n",
       "    </div>\n",
       "    <table border=\"1\" class=\"dataframe\">\n",
       "  <thead>\n",
       " <tr style=\"text-align: left;\">\n",
       "      <th>Epoch</th>\n",
       "      <th>Training Loss</th>\n",
       "      <th>Validation Loss</th>\n",
       "      <th>Accuracy</th>\n",
       "      <th>F1</th>\n",
       "    </tr>\n",
       "  </thead>\n",
       "  <tbody>\n",
       "    <tr>\n",
       "      <td>1</td>\n",
       "      <td>1.034500</td>\n",
       "      <td>0.763168</td>\n",
       "      <td>0.657143</td>\n",
       "      <td>1</td>\n",
       "    </tr>\n",
       "    <tr>\n",
       "      <td>2</td>\n",
       "      <td>0.713800</td>\n",
       "      <td>0.570985</td>\n",
       "      <td>0.838095</td>\n",
       "      <td>1</td>\n",
       "    </tr>\n",
       "  </tbody>\n",
       "</table><p>"
      ],
      "text/plain": [
       "<IPython.core.display.HTML object>"
      ]
     },
     "metadata": {},
     "output_type": "display_data"
    },
    {
     "name": "stderr",
     "output_type": "stream",
     "text": [
      "C:\\Users\\SYED SARAFEENA ALI\\anaconda\\Lib\\site-packages\\torch\\utils\\data\\dataloader.py:665: UserWarning: 'pin_memory' argument is set as true but no accelerator is found, then device pinned memory won't be used.\n",
      "  warnings.warn(warn_msg)\n",
      "C:\\Users\\SYED SARAFEENA ALI\\anaconda\\Lib\\site-packages\\torch\\utils\\data\\dataloader.py:665: UserWarning: 'pin_memory' argument is set as true but no accelerator is found, then device pinned memory won't be used.\n",
      "  warnings.warn(warn_msg)\n"
     ]
    },
    {
     "data": {
      "text/plain": [
       "TrainOutput(global_step=150, training_loss=0.872719742457072, metrics={'train_runtime': 175.4424, 'train_samples_per_second': 10.169, 'train_steps_per_second': 0.855, 'total_flos': 12924311538432.0, 'train_loss': 0.872719742457072, 'epoch': 2.0})"
      ]
     },
     "execution_count": 39,
     "metadata": {},
     "output_type": "execute_result"
    }
   ],
   "source": [
    "trainer = Trainer(model=model, args=training_args,compute_metrics=compute_metric,\n",
    "                  train_dataset = ds_pretrained_features_encoded['train'],\n",
    "                  eval_dataset = ds_pretrained_features_encoded[\"validation\"],\n",
    "                  tokenizer = tokenizer\n",
    "                  )\n",
    "trainer.train()"
   ]
  },
  {
   "cell_type": "code",
   "execution_count": 40,
   "id": "86e6576d-9490-4b0b-92ac-932d75ed9cdd",
   "metadata": {},
   "outputs": [
    {
     "name": "stderr",
     "output_type": "stream",
     "text": [
      "C:\\Users\\SYED SARAFEENA ALI\\anaconda\\Lib\\site-packages\\torch\\utils\\data\\dataloader.py:665: UserWarning: 'pin_memory' argument is set as true but no accelerator is found, then device pinned memory won't be used.\n",
      "  warnings.warn(warn_msg)\n"
     ]
    },
    {
     "data": {
      "text/html": [],
      "text/plain": [
       "<IPython.core.display.HTML object>"
      ]
     },
     "metadata": {},
     "output_type": "display_data"
    }
   ],
   "source": [
    "preds_output = trainer.predict(ds_pretrained_features_encoded['validation'])"
   ]
  },
  {
   "cell_type": "code",
   "execution_count": 41,
   "id": "cf09b1cc-56b7-4a2d-b7d3-dd884f5cc17f",
   "metadata": {},
   "outputs": [
    {
     "data": {
      "text/plain": [
       "{'test_loss': 0.5709848999977112,\n",
       " 'test_accuracy': 0.8380952380952381,\n",
       " 'test_f1': 1,\n",
       " 'test_runtime': 1.5174,\n",
       " 'test_samples_per_second': 69.196,\n",
       " 'test_steps_per_second': 5.931}"
      ]
     },
     "execution_count": 41,
     "metadata": {},
     "output_type": "execute_result"
    }
   ],
   "source": [
    "preds_output.metrics"
   ]
  },
  {
   "cell_type": "code",
   "execution_count": null,
   "id": "260001c4-cf5b-4d06-a60d-84b2d61b662d",
   "metadata": {},
   "outputs": [],
   "source": []
  },
  {
   "cell_type": "markdown",
   "id": "1e3c6d3c-64c2-48ad-ad97-28cabe89e6c5",
   "metadata": {},
   "source": [
    "## Error Analysis - detecting wrong labels by comparing them with the actual labels"
   ]
  },
  {
   "cell_type": "code",
   "execution_count": 42,
   "id": "03908ed3-31bf-4db2-88b1-119d86b49655",
   "metadata": {},
   "outputs": [],
   "source": [
    "from torch.nn.functional import cross_entropy\n",
    "\n",
    "def forward_pass_with_loss_and_label (batch):\n",
    "    inputs = {k:v.to(device) for k, v in batch.items()\n",
    "                if k in tokenizer.model_input_names}\n",
    "\n",
    "    with torch.no_grad():\n",
    "         output = model(**inputs)\n",
    "         pred_label = torch.argmax(output.logits, axis=-1)\n",
    "         loss = cross_entropy(output.logits, batch['label'].to(device), reduction='none')\n",
    "    \n",
    "    return {'Loss ': loss.cpu().numpy(), 'predicted_labels ': pred_label.cpu().numpy()}"
   ]
  },
  {
   "cell_type": "code",
   "execution_count": 43,
   "id": "b8faa56f-155a-4f9a-b300-305f131be414",
   "metadata": {},
   "outputs": [
    {
     "data": {
      "application/vnd.jupyter.widget-view+json": {
       "model_id": "fd7e02a625384229a97a1b944f751612",
       "version_major": 2,
       "version_minor": 0
      },
      "text/plain": [
       "Map:   0%|          | 0/105 [00:00<?, ? examples/s]"
      ]
     },
     "metadata": {},
     "output_type": "display_data"
    }
   ],
   "source": [
    "#hide_output\n",
    "#Convert our dataset back to PyTorch tensors\n",
    "ds_pretrained_features_encoded.set_format('torch', columns=[\"input_ids\", \"attention_mask\", \"label\"])\n",
    "\n",
    "#Compute loss values\n",
    "ds_pretrained_features_encoded['validation'] = ds_pretrained_features_encoded[\"validation\"].map(forward_pass_with_loss_and_label, batched = True, batch_size=16)"
   ]
  },
  {
   "cell_type": "code",
   "execution_count": 44,
   "id": "1ce21cbd-b47f-47fc-a1d3-a29ccb6b5152",
   "metadata": {},
   "outputs": [
    {
     "name": "stderr",
     "output_type": "stream",
     "text": [
      "C:\\Users\\SYED SARAFEENA ALI\\anaconda\\Lib\\site-packages\\torch\\utils\\data\\dataloader.py:665: UserWarning: 'pin_memory' argument is set as true but no accelerator is found, then device pinned memory won't be used.\n",
      "  warnings.warn(warn_msg)\n"
     ]
    },
    {
     "data": {
      "text/html": [],
      "text/plain": [
       "<IPython.core.display.HTML object>"
      ]
     },
     "metadata": {},
     "output_type": "display_data"
    }
   ],
   "source": [
    "pred = trainer.predict(ds_pretrained_features_encoded[\"validation\"])"
   ]
  },
  {
   "cell_type": "code",
   "execution_count": 45,
   "id": "825c8588-a26e-49b6-afd4-4b39ae125933",
   "metadata": {},
   "outputs": [],
   "source": [
    "import numpy as np\n",
    "import torch\n",
    "\n",
    "logits = pred.predictions\n",
    "label_ids = pred.label_ids\n",
    "pred_ids = np.argmax(logits, axis=-1)\n",
    "per_sample_loss = torch.nn.functional.cross_entropy(\n",
    "    torch.tensor(logits), torch.tensor(label_ids), reduction=\"none\"\n",
    ").numpy()\n",
    "\n",
    "# Convert validation split to pandas DataFrame\n",
    "ds_pretrained_features_encoded.set_format(\"pandas\")\n",
    "df_val = ds_pretrained_features_encoded[\"validation\"][:]\n",
    "\n",
    "# Inject loss and prediction columns\n",
    "df_val[\"loss\"] = per_sample_loss\n",
    "df_val[\"predicted_label\"] = pred_ids\n",
    "\n",
    "# Convert back to Hugging Face Dataset\n",
    "from datasets import Dataset\n",
    "ds_pretrained_features_encoded[\"validation\"] = Dataset.from_pandas(df_val)"
   ]
  },
  {
   "cell_type": "code",
   "execution_count": 46,
   "id": "aaf88578-6b2f-4858-9196-e0587577e009",
   "metadata": {},
   "outputs": [
    {
     "ename": "NameError",
     "evalue": "name 'label_int2str' is not defined",
     "output_type": "error",
     "traceback": [
      "\u001b[31m---------------------------------------------------------------------------\u001b[39m",
      "\u001b[31mNameError\u001b[39m                                 Traceback (most recent call last)",
      "\u001b[36mCell\u001b[39m\u001b[36m \u001b[39m\u001b[32mIn[46]\u001b[39m\u001b[32m, line 5\u001b[39m\n\u001b[32m      3\u001b[39m cols = [\u001b[33m\"\u001b[39m\u001b[33mverse_text\u001b[39m\u001b[33m\"\u001b[39m, \u001b[33m\"\u001b[39m\u001b[33mlabel\u001b[39m\u001b[33m\"\u001b[39m, \u001b[33m\"\u001b[39m\u001b[33mpredicted_label\u001b[39m\u001b[33m\"\u001b[39m, \u001b[33m\"\u001b[39m\u001b[33mloss\u001b[39m\u001b[33m\"\u001b[39m]\n\u001b[32m      4\u001b[39m df_test = ds_pretrained_features_encoded[\u001b[33m\"\u001b[39m\u001b[33mvalidation\u001b[39m\u001b[33m\"\u001b[39m][:][cols]\n\u001b[32m----> \u001b[39m\u001b[32m5\u001b[39m df_test[\u001b[33m\"\u001b[39m\u001b[33mlabel\u001b[39m\u001b[33m\"\u001b[39m] = df_test[\u001b[33m\"\u001b[39m\u001b[33mlabel\u001b[39m\u001b[33m\"\u001b[39m].apply(\u001b[43mlabel_int2str\u001b[49m)\n\u001b[32m      6\u001b[39m df_test[\u001b[33m\"\u001b[39m\u001b[33mpredicted_label\u001b[39m\u001b[33m\"\u001b[39m] = df_test[\u001b[33m\"\u001b[39m\u001b[33mpredicted_label\u001b[39m\u001b[33m\"\u001b[39m].apply(label_int2str)\n\u001b[32m      8\u001b[39m df_test.sort_values(\u001b[33m\"\u001b[39m\u001b[33mloss\u001b[39m\u001b[33m\"\u001b[39m, ascending=\u001b[38;5;28;01mFalse\u001b[39;00m).head(\u001b[32m10\u001b[39m)\n",
      "\u001b[31mNameError\u001b[39m: name 'label_int2str' is not defined"
     ]
    }
   ],
   "source": [
    "ds_pretrained_features_encoded.set_format(\"pandas\")\n",
    "\n",
    "cols = [\"verse_text\", \"label\", \"predicted_label\", \"loss\"]\n",
    "df_test = ds_pretrained_features_encoded[\"validation\"][:][cols]\n",
    "df_test[\"label\"] = df_test[\"label\"].apply(label_int2str)\n",
    "df_test[\"predicted_label\"] = df_test[\"predicted_label\"].apply(label_int2str)\n",
    "\n",
    "df_test.sort_values(\"loss\", ascending=False).head(10)"
   ]
  },
  {
   "cell_type": "code",
   "execution_count": null,
   "id": "32795f04-25d6-4032-90c8-aa56eb46fc53",
   "metadata": {},
   "outputs": [],
   "source": [
    "df_test.sort_values(\"loss\", ascending=True).head(10)"
   ]
  },
  {
   "cell_type": "code",
   "execution_count": null,
   "id": "949e33b3-4f35-444b-a493-e444b4e0e20f",
   "metadata": {},
   "outputs": [],
   "source": []
  }
 ],
 "metadata": {
  "kernelspec": {
   "display_name": "Python 3 (ipykernel)",
   "language": "python",
   "name": "python3"
  },
  "language_info": {
   "codemirror_mode": {
    "name": "ipython",
    "version": 3
   },
   "file_extension": ".py",
   "mimetype": "text/x-python",
   "name": "python",
   "nbconvert_exporter": "python",
   "pygments_lexer": "ipython3",
   "version": "3.13.5"
  }
 },
 "nbformat": 4,
 "nbformat_minor": 5
}
